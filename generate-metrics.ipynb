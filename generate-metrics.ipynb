{
 "cells": [
  {
   "cell_type": "code",
   "execution_count": 2,
   "id": "1fb4ffc9-a81e-4d94-91ab-68dfea2793ee",
   "metadata": {
    "tags": []
   },
   "outputs": [],
   "source": [
    "import pandas as pd"
   ]
  },
  {
   "cell_type": "code",
   "execution_count": 3,
   "id": "3c767dd8-0542-4e68-b19a-fc9b1571162e",
   "metadata": {
    "tags": []
   },
   "outputs": [],
   "source": [
    "site_location = ['CA', 'FL', 'NY', 'WA', 'GA', 'TX']\n",
    "category = ['bent', 'color', 'flip','good', 'scratch']\n",
    "image_quality"
   ]
  },
  {
   "cell_type": "code",
   "execution_count": null,
   "id": "d58b04e4-da01-403e-ade2-2bd1cbed578e",
   "metadata": {},
   "outputs": [],
   "source": []
  }
 ],
 "metadata": {
  "dca-init": "true",
  "kernelspec": {
   "display_name": "Python 3 (ipykernel)",
   "language": "python",
   "name": "python3"
  },
  "language_info": {
   "codemirror_mode": {
    "name": "ipython",
    "version": 3
   },
   "file_extension": ".py",
   "mimetype": "text/x-python",
   "name": "python",
   "nbconvert_exporter": "python",
   "pygments_lexer": "ipython3",
   "version": "3.9.16"
  }
 },
 "nbformat": 4,
 "nbformat_minor": 5
}
