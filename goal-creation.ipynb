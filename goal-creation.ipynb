{
 "cells": [
  {
   "cell_type": "markdown",
   "id": "6c5723d4-d2ba-4ab1-8717-5aa017b710e2",
   "metadata": {},
   "source": [
    "### Automatically Create Project Goals\n",
    "\n",
    "This notebook uses the Domino REST APIs to create the project goals. "
   ]
  },
  {
   "cell_type": "code",
   "execution_count": 2,
   "id": "7e524d21-36f3-4a0a-9f1b-fb3e360c5c87",
   "metadata": {
    "tags": []
   },
   "outputs": [],
   "source": [
    "#set up API\n",
    "import requests\n",
    "import json\n",
    "import os\n",
    "\n",
    "#set up API key and headers\n",
    "api_key = os.environ['DOMINO_USER_API_KEY']\n",
    "headers = {'X-Domino-Api-Key': api_key,  'Content-Type': 'application/json'}  \n",
    "\n",
    "#api host\n",
    "host = os.environ['DOMINO_API_HOST']"
   ]
  },
  {
   "cell_type": "code",
   "execution_count": 3,
   "id": "87942560-18dd-429a-8249-67fa38d75292",
   "metadata": {
    "tags": []
   },
   "outputs": [],
   "source": [
    "#get user id\n",
    "r_user = requests.get('{host}/v4/users/self'.format(host=host), headers=headers)\n",
    "user_id = r_user.json()['id']\n",
    "\n",
    "#get project id\n",
    "project_name = os.environ['DOMINO_PROJECT_NAME']\n",
    "url_project = '{host}/v4/projects?name={project_name}&ownerId={user_id}'.format(\n",
    "    host=host, project_name=project_name, user_id=user_id)\n",
    "r_project = requests.get(url_project, headers=headers)\n",
    "projectId = r_project.json()[0]['id']"
   ]
  },
  {
   "cell_type": "code",
   "execution_count": 4,
   "id": "449c8252-c955-4049-8586-9c7a8e63aedf",
   "metadata": {
    "tags": []
   },
   "outputs": [],
   "source": [
    "#set up goals creation\n",
    "goals_url = '{host}/api/projects/v1/projects/{projectId}/goals'.format(host=host, projectId=projectId)"
   ]
  },
  {
   "cell_type": "code",
   "execution_count": 5,
   "id": "65d4f6bf-a47e-44a9-a007-cea695048a74",
   "metadata": {
    "tags": []
   },
   "outputs": [],
   "source": [
    "#Goal titles\n",
    "titles = [\n",
    "     'Phase I: Create a checklist for project overview',\n",
    "     'Phase I: Construct the environment ',\n",
    "     'Phase I: Pick the candidate model',\n",
    "     'Phase I: Assign an Owner to every Project Goal',\n",
    "     'Phase I: Harm assessment evaluation',\n",
    "     'Phase I: Review the process for rolling back model versions',\n",
    "     'Phase II: Finalize the model and evaluation method',\n",
    "     'Phase II: Review Model',\n",
    "     'Phase II: Model is deployed to a production environment with monitoring configured',\n",
    "     'Phase III: Ensure that deployed model containers (environment, code, model, packages, hardware definitions, production data) can be easily recreated for diagnosis and remediation',\n",
    "     'Phase III: CI/CD integrations are in place to ensure models go through functional testing and security scans before moving to a production environment',\n",
    "     'Phase III: Alerts and dashboards are in place to observe data input quality, data drift, pipeline errors, and other evaluation metrics (KPIs, business proxy metrics)']"
   ]
  },
  {
   "cell_type": "code",
   "execution_count": 6,
   "id": "cef3b138-051c-4a55-a042-f51999169027",
   "metadata": {
    "tags": []
   },
   "outputs": [],
   "source": [
    "#Goal descriptions\n",
    "desc = [\n",
    "    '- Describe goal of the project\\n- Describe evaluation criteria (metrics, KPIs)\\n- Describe what the baseline for such metrics are\\n',\n",
    " '- Ensure that project dependencies have been approved\\n\\nNote: This assumes the Domino Standard Environment has been approved (security scanned)\\n',\n",
    " 'Review relevant candidates in the [Model Cards](https://docs.dominodatalab.com/en/latest/user_guide/19df62/register-and-govern-models/) if applicable. \\n**Add instructions for importing project/git repo**',\n",
    " '',\n",
    " '- Choose risk level in the project tags list. Sample code is included to incorporate these in the Domino Experiments and Model Cards \\n- Include a write-up of the likelihood and magnitude of harm that can come from the model in the Project README.md. ',\n",
    " '- Domino file versioning overview [here](https://docs.dominodatalab.com/en/latest/user_guide/b8a061/revert-projects-and-files/)\\n- Domino Datasets versioning [here](https://docs.dominodatalab.com/en/latest/user_guide/dbdbff/version-data-with-snapshots/)\\n- Domino deployment rollback options [here](https://docs.dominodatalab.com/en/latest/user_guide/19df62/register-and-govern-models/)',\n",
    " '- Have you evaluated the experiment’s logged metrics?\\n- Have you verified that the model reports metrics?\\n- Have you verified that the deployed endpoint has monitoring enabled? This may include data drift, accuracy, and KPIs\\n- Have you “approved” this model\\n',\n",
    " \"Review Domino's [model governance procedures](https://docs.dominodatalab.com/en/latest/user_guide/dfb6bc/model-governance-and-approval/) and assign reviewers once model is complete. \",\n",
    " '- Production environment is defined according to the risk category (prod-light, prod-heavy, prod-critical)\\n- Monitoring for drift (features, predictions), accuracy (classification – F1, AUC, etc.: regression – MSE, etc.), KPIs (resolution, median_brisque_score, etc.), data quality of inputs (P1..P99s) are set up\\n\\nSee example notebooks for more info\\n',\n",
    " 'See the [docs](https://docs.dominodatalab.com/en/latest/user_guide/74f8ed/remediate-a-model-api/) on how to recreate a model container for remediation. ',\n",
    " 'Use the publish and export model notebook to set up CI/CD testing workflows.',\n",
    " 'Set up model monitoring and use custom metrics if needed. ']"
   ]
  },
  {
   "cell_type": "code",
   "execution_count": 9,
   "id": "a5fd6af7-bfa3-4461-a6c5-5088d93ce383",
   "metadata": {
    "tags": []
   },
   "outputs": [],
   "source": [
    "#create goals\n",
    "for i in range(len(titles)):\n",
    "    details = {\n",
    "      \"title\": titles[i],\n",
    "      \"description\": desc[i],\n",
    "        }\n",
    "    r = requests.post(goals_url, headers=headers, json=details)\n",
    "    r.json()"
   ]
  },
  {
   "cell_type": "code",
   "execution_count": null,
   "id": "a9a86053-ed50-4a20-8728-bcd7a78ca4bf",
   "metadata": {},
   "outputs": [],
   "source": []
  }
 ],
 "metadata": {
  "dca-init": "true",
  "kernelspec": {
   "display_name": "Python 3 (ipykernel)",
   "language": "python",
   "name": "python3"
  },
  "language_info": {
   "codemirror_mode": {
    "name": "ipython",
    "version": 3
   },
   "file_extension": ".py",
   "mimetype": "text/x-python",
   "name": "python",
   "nbconvert_exporter": "python",
   "pygments_lexer": "ipython3",
   "version": "3.9.16"
  }
 },
 "nbformat": 4,
 "nbformat_minor": 5
}
